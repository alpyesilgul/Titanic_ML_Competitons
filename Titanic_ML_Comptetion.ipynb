{
  "nbformat": 4,
  "nbformat_minor": 0,
  "metadata": {
    "colab": {
      "name": "Titanic_ML_Comptetion.ipynb",
      "provenance": [],
      "authorship_tag": "ABX9TyODcNCGpJwMA5vVrV7hqGgZ",
      "include_colab_link": true
    },
    "kernelspec": {
      "name": "python3",
      "display_name": "Python 3"
    }
  },
  "cells": [
    {
      "cell_type": "markdown",
      "metadata": {
        "id": "view-in-github",
        "colab_type": "text"
      },
      "source": [
        "<a href=\"https://colab.research.google.com/github/alpyesilgul/Titanic_ML_Competitons/blob/main/Titanic_ML_Comptetion.ipynb\" target=\"_parent\"><img src=\"https://colab.research.google.com/assets/colab-badge.svg\" alt=\"Open In Colab\"/></a>"
      ]
    },
    {
      "cell_type": "code",
      "metadata": {
        "id": "tepBx3607esm"
      },
      "source": [
        "Merhaba,\r\n",
        "İlgili kaynak ve "
      ],
      "execution_count": null,
      "outputs": []
    },
    {
      "cell_type": "markdown",
      "metadata": {
        "id": "a4VXyLw_8HWF"
      },
      "source": [
        ""
      ]
    }
  ]
}